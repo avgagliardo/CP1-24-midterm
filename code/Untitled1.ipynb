{
 "cells": [
  {
   "cell_type": "code",
   "execution_count": 3,
   "id": "44880339-a86b-4828-a1fc-413aea0f59e7",
   "metadata": {},
   "outputs": [
    {
     "data": {
      "text/plain": [
       "True"
      ]
     },
     "execution_count": 3,
     "metadata": {},
     "output_type": "execute_result"
    }
   ],
   "source": [
    "import utils\n",
    "\n",
    "conv = utils.timecode_to_unix\n",
    "\n",
    "t = conv(\"2024-10-24 18:21:26.098 UTC-04:00\")\n",
    "t == 1729808486\n"
   ]
  },
  {
   "cell_type": "code",
   "execution_count": 1,
   "id": "2f1602a4-f1b1-4758-9f63-1bf89ad3f96a",
   "metadata": {},
   "outputs": [
    {
     "data": {
      "text/plain": [
       "False"
      ]
     },
     "execution_count": 1,
     "metadata": {},
     "output_type": "execute_result"
    }
   ],
   "source": [
    "1729794512 == 1729808912"
   ]
  },
  {
   "cell_type": "code",
   "execution_count": 4,
   "id": "347a6b2f-94f8-4b0b-95b8-984252f2bdfe",
   "metadata": {},
   "outputs": [
    {
     "data": {
      "text/plain": [
       "467.84776902887137"
      ]
     },
     "execution_count": 4,
     "metadata": {},
     "output_type": "execute_result"
    }
   ],
   "source": [
    "utils.convert_to_feet(142.6, 'm')"
   ]
  }
 ],
 "metadata": {
  "kernelspec": {
   "display_name": "Python 3 (ipykernel)",
   "language": "python",
   "name": "python3"
  },
  "language_info": {
   "codemirror_mode": {
    "name": "ipython",
    "version": 3
   },
   "file_extension": ".py",
   "mimetype": "text/x-python",
   "name": "python",
   "nbconvert_exporter": "python",
   "pygments_lexer": "ipython3",
   "version": "3.9.6"
  }
 },
 "nbformat": 4,
 "nbformat_minor": 5
}
